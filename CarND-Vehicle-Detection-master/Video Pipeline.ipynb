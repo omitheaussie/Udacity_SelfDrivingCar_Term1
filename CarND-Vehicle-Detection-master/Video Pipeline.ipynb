{
 "cells": [
  {
   "cell_type": "code",
   "execution_count": 8,
   "metadata": {},
   "outputs": [],
   "source": [
    "import os\n",
    "import time\n",
    "import glob\n",
    "import itertools as it\n",
    "import numpy as np\n",
    "import cv2\n",
    "import pickle\n",
    "import matplotlib.image as mpimg\n",
    "import matplotlib.pyplot as plt\n",
    "from skimage.feature import hog\n",
    "from sklearn.svm import LinearSVC\n",
    "from sklearn.preprocessing import StandardScaler\n",
    "from sklearn.model_selection import train_test_split\n",
    "from scipy.ndimage.measurements import label\n",
    "from moviepy.editor import VideoFileClip\n",
    "%run Functions.py"
   ]
  },
  {
   "cell_type": "code",
   "execution_count": 12,
   "metadata": {},
   "outputs": [
    {
     "name": "stdout",
     "output_type": "stream",
     "text": [
      "{'svc': LinearSVC(C=1.0, class_weight=None, dual=True, fit_intercept=True,\n",
      "     intercept_scaling=1, loss='squared_hinge', max_iter=1000,\n",
      "     multi_class='ovr', penalty='l2', random_state=None, tol=0.0001,\n",
      "     verbose=0), 'orient': 32, 'pix_per_cell': 16, 'hist_bins': 32, 'hist_feat': True, 'hog_channel': 'ALL', 'spatial_size': (32, 32), 'spatial_feat': True, 'y_start_stop': [400, 656], 'cell_per_block': 2, 'X_scaler': StandardScaler(copy=True, with_mean=True, with_std=True), 'hog_feat': True, 'color_space': 'YCrCb'}\n"
     ]
    }
   ],
   "source": [
    "#load data from trainer\n",
    "cls_dict = pickle.load(open(\"classifier_LinearSVC_YCrCb_991_HogALL.p\", \"rb\"))\n",
    "\n",
    "# Pull in parameters and classifier from dictionary\n",
    "color_space = cls_dict['color_space']\n",
    "orient = cls_dict['orient']\n",
    "pix_per_cell = cls_dict['pix_per_cell']\n",
    "cell_per_block = cls_dict['cell_per_block']\n",
    "hog_channel = cls_dict['hog_channel']\n",
    "spatial_size = cls_dict['spatial_size']\n",
    "hist_bins = cls_dict['hist_bins']\n",
    "spatial_feat = cls_dict['spatial_feat']\n",
    "hist_feat = cls_dict['hist_feat']\n",
    "hog_feat = cls_dict['hog_feat']\n",
    "y_start_stop = cls_dict['y_start_stop']\n",
    "ystart = y_start_stop[0]\n",
    "ystop = y_start_stop[1]\n",
    "svc = cls_dict['svc']\n",
    "X_scaler = cls_dict['X_scaler']\n",
    "print(cls_dict)\n",
    "#scale = 1.5\n",
    "scale = [1.1, 1.5, 1.9, 2.3]\n",
    "heat_threshold = 1\n",
    "heat_smooth_factor = 0\n",
    "heat_smooth_factor = 0.5\n",
    "xstart=600\n",
    "heat_list=[]"
   ]
  },
  {
   "cell_type": "code",
   "execution_count": 13,
   "metadata": {},
   "outputs": [],
   "source": [
    "global heat_list\n",
    "def pipeline(img):\n",
    "    global heat_list\n",
    "    scale = 1.5\n",
    "    _, heat_map1, img_boxes1, _ = find_cars(img, ystart, 600, xstart, scale, svc, X_scaler, orient, pix_per_cell, cell_per_block, spatial_size, hist_bins, color_space=color_space)\n",
    "    scale = 2\n",
    "    _, heat_map2, img_boxes2, _ = find_cars(img, 500, ystop, xstart, scale, svc, X_scaler, orient, pix_per_cell, cell_per_block, spatial_size, hist_bins, color_space=color_space)\n",
    "    \n",
    "    hot_windows = img_boxes1+img_boxes2\n",
    "    heat = np.zeros_like(img[:,:,0]).astype(np.float)\n",
    "    heat = add_heat(heat,hot_windows)\n",
    "    heat_thresh=heat\n",
    "    if len(heat_list)==0:\n",
    "        heat_comb = np.zeros_like(img[:,:,0]).astype(np.float)\n",
    "        heat_comb_thresh = heat_comb\n",
    "        labels = label(heat_thresh)\n",
    "        heat_list = heat_thresh\n",
    "    else:\n",
    "        heat_comb = heat_list*heat_smooth_factor + heat_thresh*(1-heat_smooth_factor)\n",
    "        heat_comb_thresh = apply_threshold(heat_comb,heat_threshold)\n",
    "        labels = label(heat_comb_thresh)\n",
    "        heat_list = heat_comb_thresh\n",
    "    draw_img = draw_labeled_bboxes(img, labels)\n",
    "    \n",
    "    return draw_labeled_bboxes(img, labels)"
   ]
  },
  {
   "cell_type": "code",
   "execution_count": 14,
   "metadata": {},
   "outputs": [
    {
     "name": "stdout",
     "output_type": "stream",
     "text": [
      "[MoviePy] >>>> Building video project_video_output_alternate3.mp4\n",
      "[MoviePy] Writing video project_video_output_alternate3.mp4\n"
     ]
    },
    {
     "name": "stderr",
     "output_type": "stream",
     "text": [
      "100%|█████████████████████████████████████████████████████████████████████████████▉| 1260/1261 [04:34<00:00,  4.73it/s]\n"
     ]
    },
    {
     "name": "stdout",
     "output_type": "stream",
     "text": [
      "[MoviePy] Done.\n",
      "[MoviePy] >>>> Video ready: project_video_output_alternate3.mp4 \n",
      "\n",
      "Wall time: 4min 34s\n"
     ]
    }
   ],
   "source": [
    "heat_list=[]\n",
    "project_output = 'project_video_output_alternate3.mp4'\n",
    "clip1 = VideoFileClip(\"project_video - Copy.mp4\")\n",
    "project_clip = clip1.fl_image(pipeline)\n",
    "%time project_clip.write_videofile(project_output, audio=False)"
   ]
  },
  {
   "cell_type": "code",
   "execution_count": null,
   "metadata": {},
   "outputs": [],
   "source": []
  }
 ],
 "metadata": {
  "kernelspec": {
   "display_name": "Python 3",
   "language": "python",
   "name": "python3"
  },
  "language_info": {
   "codemirror_mode": {
    "name": "ipython",
    "version": 3
   },
   "file_extension": ".py",
   "mimetype": "text/x-python",
   "name": "python",
   "nbconvert_exporter": "python",
   "pygments_lexer": "ipython3",
   "version": "3.5.2"
  },
  "widgets": {
   "state": {},
   "version": "1.1.2"
  }
 },
 "nbformat": 4,
 "nbformat_minor": 2
}
